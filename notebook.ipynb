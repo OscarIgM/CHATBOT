{
 "cells": [
  {
   "cell_type": "code",
   "execution_count": null,
   "id": "73207456",
   "metadata": {},
   "outputs": [
    {
     "name": "stdout",
     "output_type": "stream",
     "text": [
      "✅ Paths cargados correctamente\n",
      "Index FAISS: data\\processed\\index.faiss\n",
      "Metadata: data\\processed\\chunks.parquet\n"
     ]
    }
   ],
   "source": [
    "import os\n",
    "import pandas as pd\n",
    "import numpy as np\n",
    "from dotenv import load_dotenv\n",
    "import faiss\n",
    "from rag.embed_query import embed_query\n",
    "##mas que nada lo cree para ver los metadatos\n",
    "load_dotenv()\n",
    "\n",
    "INDEX_PATH = os.path.join(\"data\", \"processed\", \"index.faiss\")\n",
    "METADATA_PATH = os.path.join(\"data\", \"processed\", \"chunks.parquet\")\n",
    "\n",
    "print(\"✅ Paths cargados correctamente\")\n",
    "print(f\"Index FAISS: {INDEX_PATH}\")\n",
    "print(f\"Metadata: {METADATA_PATH}\")"
   ]
  },
  {
   "cell_type": "code",
   "execution_count": 10,
   "id": "c27ad884",
   "metadata": {},
   "outputs": [
    {
     "name": "stdout",
     "output_type": "stream",
     "text": [
      "✅ FAISS index cargado\n",
      "✅ Metadata cargada\n",
      "Número de chunks: 97\n"
     ]
    },
    {
     "data": {
      "text/html": [
       "<div>\n",
       "<style scoped>\n",
       "    .dataframe tbody tr th:only-of-type {\n",
       "        vertical-align: middle;\n",
       "    }\n",
       "\n",
       "    .dataframe tbody tr th {\n",
       "        vertical-align: top;\n",
       "    }\n",
       "\n",
       "    .dataframe thead th {\n",
       "        text-align: right;\n",
       "    }\n",
       "</style>\n",
       "<table border=\"1\" class=\"dataframe\">\n",
       "  <thead>\n",
       "    <tr style=\"text-align: right;\">\n",
       "      <th></th>\n",
       "      <th>doc_id</th>\n",
       "      <th>chunk_id</th>\n",
       "      <th>text</th>\n",
       "      <th>metadata</th>\n",
       "    </tr>\n",
       "  </thead>\n",
       "  <tbody>\n",
       "    <tr>\n",
       "      <th>0</th>\n",
       "      <td>doc_003</td>\n",
       "      <td>data_0_0</td>\n",
       "      <td>## Chunk 1 **Calendario Académico 2025** ### E...</td>\n",
       "      <td>{'chunk_id': 'data_0_0', 'doc_id': 'doc_003', ...</td>\n",
       "    </tr>\n",
       "    <tr>\n",
       "      <th>1</th>\n",
       "      <td>doc_003</td>\n",
       "      <td>data_0_1</td>\n",
       "      <td>Jueves 01 de mayo Feriado Nacional – Día del T...</td>\n",
       "      <td>{'chunk_id': 'data_0_1', 'doc_id': 'doc_003', ...</td>\n",
       "    </tr>\n",
       "    <tr>\n",
       "      <th>2</th>\n",
       "      <td>doc_003</td>\n",
       "      <td>data_0_2</td>\n",
       "      <td>4º bimestre. ([ufro.cl](https://www.ufro.cl/ca...</td>\n",
       "      <td>{'chunk_id': 'data_0_2', 'doc_id': 'doc_003', ...</td>\n",
       "    </tr>\n",
       "    <tr>\n",
       "      <th>3</th>\n",
       "      <td>doc_001</td>\n",
       "      <td>REGLAMENTO-DE-CONVIVENCIA-UNIVERSITARIA_1_0</td>\n",
       "      <td>/gid00051/gid00038/gid00040/gid00045/gid00034/...</td>\n",
       "      <td>{'chunk_id': 'REGLAMENTO-DE-CONVIVENCIA-UNIVER...</td>\n",
       "    </tr>\n",
       "    <tr>\n",
       "      <th>4</th>\n",
       "      <td>doc_001</td>\n",
       "      <td>REGLAMENTO-DE-CONVIVENCIA-UNIVERSITARIA_2_0</td>\n",
       "      <td>DIRECCIÓN DE EQUIDAD DE GÉNERO UNIVERSIDAD DE ...</td>\n",
       "      <td>{'chunk_id': 'REGLAMENTO-DE-CONVIVENCIA-UNIVER...</td>\n",
       "    </tr>\n",
       "  </tbody>\n",
       "</table>\n",
       "</div>"
      ],
      "text/plain": [
       "    doc_id                                     chunk_id  \\\n",
       "0  doc_003                                     data_0_0   \n",
       "1  doc_003                                     data_0_1   \n",
       "2  doc_003                                     data_0_2   \n",
       "3  doc_001  REGLAMENTO-DE-CONVIVENCIA-UNIVERSITARIA_1_0   \n",
       "4  doc_001  REGLAMENTO-DE-CONVIVENCIA-UNIVERSITARIA_2_0   \n",
       "\n",
       "                                                text  \\\n",
       "0  ## Chunk 1 **Calendario Académico 2025** ### E...   \n",
       "1  Jueves 01 de mayo Feriado Nacional – Día del T...   \n",
       "2  4º bimestre. ([ufro.cl](https://www.ufro.cl/ca...   \n",
       "3  /gid00051/gid00038/gid00040/gid00045/gid00034/...   \n",
       "4  DIRECCIÓN DE EQUIDAD DE GÉNERO UNIVERSIDAD DE ...   \n",
       "\n",
       "                                            metadata  \n",
       "0  {'chunk_id': 'data_0_0', 'doc_id': 'doc_003', ...  \n",
       "1  {'chunk_id': 'data_0_1', 'doc_id': 'doc_003', ...  \n",
       "2  {'chunk_id': 'data_0_2', 'doc_id': 'doc_003', ...  \n",
       "3  {'chunk_id': 'REGLAMENTO-DE-CONVIVENCIA-UNIVER...  \n",
       "4  {'chunk_id': 'REGLAMENTO-DE-CONVIVENCIA-UNIVER...  "
      ]
     },
     "execution_count": 10,
     "metadata": {},
     "output_type": "execute_result"
    }
   ],
   "source": [
    "index = faiss.read_index(INDEX_PATH)\n",
    "print(\"✅ FAISS index cargado\")\n",
    "\n",
    "# Cargar metadata\n",
    "metadata = pd.read_parquet(METADATA_PATH)\n",
    "print(\"✅ Metadata cargada\")\n",
    "print(f\"Número de chunks: {len(metadata)}\")\n",
    "metadata.head(5)\n"
   ]
  },
  {
   "cell_type": "code",
   "execution_count": 11,
   "id": "f64d93a7",
   "metadata": {},
   "outputs": [
    {
     "name": "stdout",
     "output_type": "stream",
     "text": [
      "Columnas en metadata: ['doc_id', 'chunk_id', 'text', 'metadata']\n",
      "✅ La columna 'metadata' existe. Algunos ejemplos:\n",
      "0    {'chunk_id': 'data_0_0', 'doc_id': 'doc_003', ...\n",
      "1    {'chunk_id': 'data_0_1', 'doc_id': 'doc_003', ...\n",
      "2    {'chunk_id': 'data_0_2', 'doc_id': 'doc_003', ...\n",
      "3    {'chunk_id': 'REGLAMENTO-DE-CONVIVENCIA-UNIVER...\n",
      "4    {'chunk_id': 'REGLAMENTO-DE-CONVIVENCIA-UNIVER...\n",
      "Name: metadata, dtype: object\n"
     ]
    }
   ],
   "source": [
    "print(\"Columnas en metadata:\", metadata.columns.tolist())\n",
    "\n",
    "# Ver si hay columna 'metadata'\n",
    "if 'metadata' in metadata.columns:\n",
    "    print(\"✅ La columna 'metadata' existe. Algunos ejemplos:\")\n",
    "    print(metadata['metadata'].head(5))\n",
    "else:\n",
    "    print(\"⚠ No existe columna 'metadata', se usarán diccionarios vacíos en su lugar.\")"
   ]
  },
  {
   "cell_type": "code",
   "execution_count": 12,
   "id": "f3fd62ce",
   "metadata": {},
   "outputs": [
    {
     "name": "stdout",
     "output_type": "stream",
     "text": [
      "Embedding generado. Shape: (1, 384)\n",
      "Primeros 10 valores: [-0.00598394  0.03019341 -0.04273844 -0.03170299 -0.13058773  0.00878726\n",
      "  0.05249117 -0.01990112  0.03660937  0.03762356]\n"
     ]
    }
   ],
   "source": [
    "\n",
    "query = \"Artículo 3 del reglamento de convivencia\"\n",
    "embedding = embed_query(query)\n",
    "\n",
    "print(f\"Embedding generado. Shape: {embedding.shape}\")\n",
    "print(\"Primeros 10 valores:\", embedding[0, :10])\n"
   ]
  },
  {
   "cell_type": "code",
   "execution_count": 13,
   "id": "bad477e6",
   "metadata": {},
   "outputs": [
    {
     "name": "stdout",
     "output_type": "stream",
     "text": [
      "Chunks más cercanos (k=3):\n",
      "- Score: 0.656, Chunk 49: 04/ RREP TÍTULO I: DISPOSICIONES GENERALES ARTÍCULO 1º: El Reglamento de Régimen de Estudios de Pregrado, tiene por objeto establecer las disposicione...\n",
      "  Metadata: {'chunk_id': 'ReglamentodeRegimendeEstudios__2023__5_0', 'doc_id': 'doc_002', 'filename': 'data/raw/ReglamentodeRegimendeEstudios__2023_.pdf', 'page': 5.0, 'source_type': 'pdf', 'title': 'ReglamentodeRegimendeEstudios  2023 ', 'url': 'https://www.ufro.cl', 'vigencia': None}\n",
      "- Score: 0.580, Chunk 56: REGLAMENTO DE RÉGIMEN DE ESTUDIO DE PREGRADO 11 / RREP especializada, en concordancia con lo expresado en el perﬁl deﬁnido para cada carrera. El máxim...\n",
      "  Metadata: {'chunk_id': 'ReglamentodeRegimendeEstudios__2023__12_0', 'doc_id': 'doc_002', 'filename': 'data/raw/ReglamentodeRegimendeEstudios__2023_.pdf', 'page': 12.0, 'source_type': 'pdf', 'title': 'ReglamentodeRegimendeEstudios  2023 ', 'url': 'https://www.ufro.cl', 'vigencia': None}\n",
      "- Score: 0.564, Chunk 82: REGLAMENTO DE RÉGIMEN DE ESTUDIO DE PREGRADO 37/ RREP TÍTULO XIII: DE LA REINCORPORACIÓN A LOS ESTUDIOS ARTÍCULO 58º: La Universidad de La Frontera po...\n",
      "  Metadata: {'chunk_id': 'ReglamentodeRegimendeEstudios__2023__38_0', 'doc_id': 'doc_002', 'filename': 'data/raw/ReglamentodeRegimendeEstudios__2023_.pdf', 'page': 38.0, 'source_type': 'pdf', 'title': 'ReglamentodeRegimendeEstudios  2023 ', 'url': 'https://www.ufro.cl', 'vigencia': None}\n"
     ]
    }
   ],
   "source": [
    "k = 3\n",
    "if len(embedding.shape) == 1:\n",
    "    embedding = embedding.reshape(1, -1)\n",
    "\n",
    "scores, idxs = index.search(embedding.astype(\"float32\"), k)\n",
    "print(f\"Chunks más cercanos (k={k}):\")\n",
    "for score, i in zip(scores[0], idxs[0]):\n",
    "    if i == -1:\n",
    "        continue\n",
    "    doc = metadata.iloc[i]\n",
    "    content_preview = doc['text'][:150].replace(\"\\n\", \" \")\n",
    "    print(f\"- Score: {score:.3f}, Chunk {i}: {content_preview}...\")\n",
    "    if 'metadata' in doc:\n",
    "        print(f\"  Metadata: {doc['metadata']}\")\n",
    "    else:\n",
    "        print(\"  Metadata: {}\")"
   ]
  },
  {
   "cell_type": "code",
   "execution_count": 14,
   "id": "81b96ed7",
   "metadata": {},
   "outputs": [
    {
     "name": "stdout",
     "output_type": "stream",
     "text": [
      "Ejemplos aleatorios de 5 chunks:\n",
      "--------------------------------------------------------\n",
      "Chunk: 34/ RREP será rechazado, situación que será informada a el(la) estudiante y al(los) docente(s) vía email, por el(la) director(a) de carrera. El Servicio de Salud Estudiantil o Dirección de Carrera, ti ...\n",
      "Metadata: {'chunk_id': 'ReglamentodeRegimendeEstudios__2023__35_0', 'doc_id': 'doc_002', 'filename': 'data/raw/ReglamentodeRegimendeEstudios__2023_.pdf', 'page': 35.0, 'source_type': 'pdf', 'title': 'ReglamentodeRegimendeEstudios  2023 ', 'url': 'https://www.ufro.cl', 'vigencia': None}\n",
      "--------------------------------------------------------\n",
      "Chunk: 12/ RREP especializada, en concordancia con lo expresado en el perﬁl deﬁnido para cada carrera. El máximo de requisitos que se podrá incluir en una asignatura del Plan de Estudios es de dos, exceptuan ...\n",
      "Metadata: {'chunk_id': 'ReglamentodeRegimendeEstudios__2023__13_0', 'doc_id': 'doc_002', 'filename': 'data/raw/ReglamentodeRegimendeEstudios__2023_.pdf', 'page': 13.0, 'source_type': 'pdf', 'title': 'ReglamentodeRegimendeEstudios  2023 ', 'url': 'https://www.ufro.cl', 'vigencia': None}\n",
      "--------------------------------------------------------\n",
      "Chunk: 40/ RREP TÍTULO XV: DE LA CONVALIDACIÓN Y REVALIDACIÓN DE ASIGNATURAS ARTÍCULO 64º: La Homologación de estudios es el trámite académico – administrativo que permite validar actividades curriculares de ...\n",
      "Metadata: {'chunk_id': 'ReglamentodeRegimendeEstudios__2023__41_0', 'doc_id': 'doc_002', 'filename': 'data/raw/ReglamentodeRegimendeEstudios__2023_.pdf', 'page': 41.0, 'source_type': 'pdf', 'title': 'ReglamentodeRegimendeEstudios  2023 ', 'url': 'https://www.ufro.cl', 'vigencia': None}\n",
      "--------------------------------------------------------\n",
      "Chunk: REGLAMENTO DE RÉGIMEN DE ESTUDIO DE PREGRADO 29/ RREP a. Continuidad de estudios durante el Primer Ciclo Formativo: Durante el primer Ciclo Formativo, es decir durante los dos primeros años del Plan d ...\n",
      "Metadata: {'chunk_id': 'ReglamentodeRegimendeEstudios__2023__30_0', 'doc_id': 'doc_002', 'filename': 'data/raw/ReglamentodeRegimendeEstudios__2023_.pdf', 'page': 30.0, 'source_type': 'pdf', 'title': 'ReglamentodeRegimendeEstudios  2023 ', 'url': 'https://www.ufro.cl', 'vigencia': None}\n",
      "--------------------------------------------------------\n",
      "Chunk: /gid00014/gid00049/gid00162/gid00070/gid00072/gid00077/gid00064 /gid00019/gid00023 La Dirección de Equidad de Género velará por el respeto de los derechos de todas las personas denunciantes. Respecto  ...\n",
      "Metadata: {'chunk_id': 'REGLAMENTO-DE-CONVIVENCIA-UNIVERSITARIA_28_0', 'doc_id': 'doc_001', 'filename': 'data/raw/REGLAMENTO-DE-CONVIVENCIA-UNIVERSITARIA.pdf', 'page': 28.0, 'source_type': 'pdf', 'title': 'REGLAMENTO-DE-CONVIVENCIA-UNIVERSITARIA', 'url': 'https://www.ufro.cl', 'vigencia': None}\n"
     ]
    }
   ],
   "source": [
    "print(\"Ejemplos aleatorios de 5 chunks:\")\n",
    "for _, doc in metadata.sample(5).iterrows():\n",
    "    print(\"--------------------------------------------------------\")\n",
    "    print(\"Chunk:\", doc['text'][:200].replace(\"\\n\", \" \"), \"...\")\n",
    "    if 'metadata' in doc:\n",
    "        print(\"Metadata:\", doc['metadata'])\n",
    "    else:\n",
    "        print(\"Metadata: {}\")\n"
   ]
  }
 ],
 "metadata": {
  "kernelspec": {
   "display_name": ".venv",
   "language": "python",
   "name": "python3"
  },
  "language_info": {
   "codemirror_mode": {
    "name": "ipython",
    "version": 3
   },
   "file_extension": ".py",
   "mimetype": "text/x-python",
   "name": "python",
   "nbconvert_exporter": "python",
   "pygments_lexer": "ipython3",
   "version": "3.11.9"
  }
 },
 "nbformat": 4,
 "nbformat_minor": 5
}
